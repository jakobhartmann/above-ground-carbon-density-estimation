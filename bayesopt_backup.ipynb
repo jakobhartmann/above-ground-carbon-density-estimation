{
 "cells": [
  {
   "cell_type": "markdown",
   "metadata": {
    "id": "U7i55vr_aKCB"
   },
   "source": [
    "## Run me first\n",
    "\n",
    "First of all, run the following cell to initialize the API. The output will contain instructions on how to grant this notebook access to Earth Engine using your account."
   ]
  },
  {
   "cell_type": "code",
   "execution_count": 2,
   "metadata": {
    "colab": {
     "base_uri": "https://localhost:8080/"
    },
    "id": "XeFsiSp2aDL6",
    "outputId": "3e5f0f50-a604-43fe-fd2c-b3a547a089fa"
   },
   "outputs": [
    {
     "data": {
      "text/html": [
       "<p>To authorize access needed by Earth Engine, open the following\n",
       "        URL in a web browser and follow the instructions:</p>\n",
       "        <p><a href=https://code.earthengine.google.com/client-auth?scopes=https%3A//www.googleapis.com/auth/earthengine%20https%3A//www.googleapis.com/auth/devstorage.full_control&request_id=5k8S2U4hx1s8kVUYVf2HDv30O6xnDPAvSJZ2bUIctqQ&tc=De-NuyXj8_SxFq4JgZHYsosQ2uXJYXV7ZD4Y9E5HGFo&cc=1L_FpyMPpqIDyzZI3ghSHfc2Sk1buFwBLsmdYMSlp9U>https://code.earthengine.google.com/client-auth?scopes=https%3A//www.googleapis.com/auth/earthengine%20https%3A//www.googleapis.com/auth/devstorage.full_control&request_id=5k8S2U4hx1s8kVUYVf2HDv30O6xnDPAvSJZ2bUIctqQ&tc=De-NuyXj8_SxFq4JgZHYsosQ2uXJYXV7ZD4Y9E5HGFo&cc=1L_FpyMPpqIDyzZI3ghSHfc2Sk1buFwBLsmdYMSlp9U</a></p>\n",
       "        <p>The authorization workflow will generate a code, which you should paste in the box below.</p>\n",
       "        "
      ],
      "text/plain": [
       "<IPython.core.display.HTML object>"
      ]
     },
     "metadata": {},
     "output_type": "display_data"
    },
    {
     "name": "stdout",
     "output_type": "stream",
     "text": [
      "\n",
      "Successfully saved authorization token.\n"
     ]
    }
   ],
   "source": [
    "import ee\n",
    "\n",
    "# Trigger the authentication flow.\n",
    "ee.Authenticate()\n",
    "\n",
    "# Initialize the library.\n",
    "ee.Initialize()"
   ]
  },
  {
   "cell_type": "markdown",
   "metadata": {
    "id": "u6V2UYFlPAPj"
   },
   "source": [
    "## Getting started with Collections\n",
    "\n",
    "In the Earth Engine Data Catalog, datasets can be of different types:\n",
    "\n",
    "- *Features* which are geometric objects with a list of properties. For example, a watershed with some properties such as *name* and *area*, is an `ee.Feature`.\n",
    "- *Images* which are like features, but may include several bands. For example, the ground elevation given by the USGS [here](https://developers.google.com/earth-engine/datasets/catalog/USGS_SRTMGL1_003) is an `ee.Image`.\n",
    "- *Collections* which are groups of features or images. For example, the [Global Administrative Unit Layers](https://developers.google.com/earth-engine/datasets/catalog/FAO_GAUL_2015_level0) giving administrative boundaries is a `ee.FeatureCollection` and the [MODIS Land Surface Temperature](https://developers.google.com/earth-engine/datasets/catalog/MODIS_006_MOD11A1) dataset is an `ee.ImageCollection`.\n",
    "\n",
    "If you want to know more about different data models, you may want to visit the [Earth Engine User Guide](https://developers.google.com/earth-engine).\n",
    "\n",
    "In the following sections, we work with the MODIS [land cover (LC)](https://developers.google.com/earth-engine/datasets/catalog/MODIS_006_MCD12Q1), the MODIS [land surface temperature (LST)](https://developers.google.com/earth-engine/datasets/catalog/MODIS_006_MOD11A1) and with the USGS [ground elevation (ELV)](https://developers.google.com/earth-engine/datasets/catalog/USGS_SRTMGL1_003), which are `ee.ImageCollections`. The dataset descriptions provide us with all the information we need to import and manipulate these datasets: the availability, the provider, the Earth Engine Snippet, and the available bands associated with images in the collection.\n",
    "\n",
    "Now, to import the LC, LST and ELV collections, we can copy and paste the Earth Engine Snippets:"
   ]
  },
  {
   "cell_type": "code",
   "execution_count": 3,
   "metadata": {
    "id": "i6WDkfesPYeV"
   },
   "outputs": [],
   "source": [
    "# Import the MODIS land cover collection.\n",
    "lc = ee.ImageCollection('MODIS/006/MCD12Q1')\n",
    "\n",
    "# Import the MODIS land surface temperature collection.\n",
    "lst = ee.ImageCollection('MODIS/006/MOD11A1')\n",
    "\n",
    "new_ds = ee.ImageCollection('MODIS/061/MOD13Q1')\n",
    "\n",
    "# Import the USGS ground elevation image.\n",
    "elv = ee.Image('USGS/SRTMGL1_003')"
   ]
  },
  {
   "cell_type": "markdown",
   "metadata": {
    "id": "GMMR8rvDPd9r"
   },
   "source": [
    "All of these images come in a different resolution, frequency, and possibly projection, ranging from daily images in a 1 km resolution for LST (hence an `ee.ImageCollection` — a collection of several `ee.Images`) to a single image representing data for the year 2000 in a 30 m resolution for the ELV. While we need to have an eye on the frequency, GEE takes care of resolution and projection by resampling and reprojecting all data we are going to work with to a common projection (learn more about [projections in Earth Engine](https://developers.google.com/earth-engine/guides/projections)). We can define the resolution (called scale in GEE) whenever necessary and of course have the option to force no reprojection.\n",
    "\n",
    "As you can see in the description of the datasets, they include several sets of information stored in several bands. For example, these bands are associated with the LST collection:\n",
    "\n",
    "- _LST\\_Day\\_1km_: Daytime Land Surface Temperature\n",
    "- _Day\\_view\\_time_: Local time of day observation\n",
    "- _LST\\_Night\\_1km_: Nighttime Land Surface Temperature\n",
    "- etc.\n",
    "\n",
    "The description page of the collection tells us that the name of the band associated with the daytime LST is _LST\\_Day\\_1km_ which is in units of Kelvin. In addition, values are ranging from 7,500 to 65,535 with a corrective scale of 0.02.\n",
    "\n",
    "Then, we have to filter the collection on the period of time we want. We can do that using the `filterDate()` method. We also need to select the bands we want to work with. Therefore, we decide to focus on daytime LST so we select the daytime band _LST\\_Day\\_1km_ and its associated quality indicator _QC\\_Day_ with the `select()` method."
   ]
  },
  {
   "cell_type": "code",
   "execution_count": 4,
   "metadata": {
    "id": "jhoBd-aEPrD7"
   },
   "outputs": [],
   "source": [
    "# Initial date of interest (inclusive).\n",
    "i_date = '2017-01-01'\n",
    "\n",
    "# Final date of interest (exclusive).\n",
    "f_date = '2020-01-01'\n",
    "\n",
    "# Selection of appropriate bands and dates for LST.\n",
    "lst = lst.select('LST_Day_1km', 'QC_Day').filterDate(i_date, f_date)\n",
    "\n",
    "# Initial date of interest (inclusive).\n",
    "new_i_date = '2017-01-01'\n",
    "\n",
    "# Final date of interest (exclusive).\n",
    "new_f_date = '2020-01-01'\n",
    "\n",
    "new_ds = new_ds.select('NDVI', 'EVI').filterDate(new_i_date, new_f_date)"
   ]
  },
  {
   "cell_type": "markdown",
   "metadata": {
    "id": "fIQrdLTxPvKT"
   },
   "source": [
    "Now, we can either upload existing shape files or define some points with longitude and latitude coordinates where we want to know more about LC, LST and ELV. For this example, let's use two point locations:\n",
    "\n",
    "- The first one in the urban area of Lyon, France\n",
    "- The second one, 30 kilometers away from the city center, in a rural area"
   ]
  },
  {
   "cell_type": "code",
   "execution_count": 5,
   "metadata": {
    "id": "WyNni8FsP0Ss"
   },
   "outputs": [],
   "source": [
    "# Define the urban location of interest as a point near Lyon, France.\n",
    "u_lon = 4.8148\n",
    "u_lat = 45.7758\n",
    "u_poi = ee.Geometry.Point(u_lon, u_lat)\n",
    "\n",
    "# Define the rural location of interest as a point away from the city.\n",
    "r_lon = 5.175964\n",
    "r_lat = 45.574064\n",
    "r_poi = ee.Geometry.Point(r_lon, r_lat)"
   ]
  },
  {
   "cell_type": "markdown",
   "metadata": {
    "id": "5_b5z0ieQAO0"
   },
   "source": [
    "We can easily get information about our region/point of interest using the following methods (to get more information about available methods and required arguments, please visit the API documentation [here](https://developers.google.com/earth-engine/api_docs)):\n",
    "\n",
    "- `sample()`: samples the image (does NOT work for an `ee.ImageCollection` — we'll talk about sampling an `ee.ImageCollection` later) according to a given geometry and a scale (in meters) of the projection to sample in. It returns an `ee.FeatureCollection`.\n",
    "- `first()`: returns the first entry of the collection,\n",
    "- `get()`: to select the appropriate band of your Image/Collection,\n",
    "- `getInfo()`: evaluates server-side expression graph and transfers result to client.\n",
    "\n",
    "Then we can query the ground elevation and LST around our point of interest using the following commands. Please be careful when evaluating LST. According to the [dataset description](https://developers.google.com/earth-engine/datasets/catalog/MODIS_006_MOD11A1), the value should be corrected by a factor of 0.02 to get units of Kelvin (do not forget the conversion). To get the mean multi-annual daytime LST, we use the `mean()` collection reduction method on the LST `ee.ImageCollection`. (The following run might take about 15-20 seconds)"
   ]
  },
  {
   "cell_type": "code",
   "execution_count": 6,
   "metadata": {
    "colab": {
     "base_uri": "https://localhost:8080/"
    },
    "id": "qwNoBjtyP3P8",
    "outputId": "630ce3f0-b224-43e8-c575-a12815cb8e23"
   },
   "outputs": [
    {
     "name": "stdout",
     "output_type": "stream",
     "text": [
      "Ground elevation at urban point: 196 m\n",
      "Average daytime LST at urban point: 23.12 °C\n",
      "Land cover value at urban point is: 13\n"
     ]
    }
   ],
   "source": [
    "scale = 1000  # scale in meters\n",
    "\n",
    "# Print the elevation near Lyon, France.\n",
    "elv_urban_point = elv.sample(u_poi, scale).first().get('elevation').getInfo()\n",
    "print('Ground elevation at urban point:', elv_urban_point, 'm')\n",
    "\n",
    "# Calculate and print the mean value of the LST collection at the point.\n",
    "lst_urban_point = lst.mean().sample(u_poi, scale).first().get('LST_Day_1km').getInfo()\n",
    "print('Average daytime LST at urban point:', round(lst_urban_point*0.02 -273.15, 2), '°C')\n",
    "\n",
    "# Print the land cover type at the point.\n",
    "lc_urban_point = lc.first().sample(u_poi, scale).first().get('LC_Type1').getInfo()\n",
    "print('Land cover value at urban point is:', lc_urban_point)\n",
    "\n",
    "# print(lc)\n",
    "# print(lc.first().sample(u_poi, scale))"
   ]
  },
  {
   "cell_type": "code",
   "execution_count": 7,
   "metadata": {
    "colab": {
     "base_uri": "https://localhost:8080/"
    },
    "id": "7iG06RTcMPKQ",
    "outputId": "aba7cb87-bcd2-4906-c9d0-3b176c81ec41"
   },
   "outputs": [
    {
     "name": "stdout",
     "output_type": "stream",
     "text": [
      "Average NDVI at urban point: 3067\n"
     ]
    }
   ],
   "source": [
    "scale = 1000  # scale in meters\n",
    "\n",
    "# Calculate and print the mean value of the LST collection at the point.\n",
    "new_urban_point = new_ds.first().sample(u_poi, scale).first().get('NDVI').getInfo()\n",
    "print('Average NDVI at urban point:', new_urban_point)\n"
   ]
  },
  {
   "cell_type": "code",
   "execution_count": 8,
   "metadata": {
    "colab": {
     "base_uri": "https://localhost:8080/",
     "height": 429
    },
    "id": "m507TeaeW8NH",
    "outputId": "fef59093-86ce-4765-92fb-cc8e5fe2f39c"
   },
   "outputs": [
    {
     "name": "stdout",
     "output_type": "stream",
     "text": [
      "https://earthengine.googleapis.com/v1alpha/projects/earthengine-legacy/thumbnails/93d9d2abe0f3d3fb99145229e0698f93-313cc265452137bdcf29730241b4faf8:getPixels\n",
      "\n",
      "Please wait while the thumbnail loads, it may take a moment...\n"
     ]
    },
    {
     "data": {
      "text/html": [
       "<img src=\"https://earthengine.googleapis.com/v1alpha/projects/earthengine-legacy/thumbnails/93d9d2abe0f3d3fb99145229e0698f93-313cc265452137bdcf29730241b4faf8:getPixels\"/>"
      ],
      "text/plain": [
       "<IPython.core.display.Image object>"
      ]
     },
     "execution_count": 8,
     "metadata": {},
     "output_type": "execute_result"
    }
   ],
   "source": [
    "from IPython.display import Image\n",
    "\n",
    "new_img = new_ds.mean()\n",
    "\n",
    "new_img = new_img.select('NDVI')\n",
    "\n",
    "roi = u_poi.buffer(1e6)\n",
    "\n",
    "# Create a URL to the styled image for a region around France.\n",
    "url = new_img.getThumbUrl({\n",
    "    'min': 0.0,\n",
    "    'max': 9000.0,\n",
    "    'dimensions': 512,\n",
    "    'region': roi,\n",
    "    'palette': [\n",
    "      'FFFFFF', 'CE7E45', 'DF923D', 'F1B555', 'FCD163', '99B718', '74A901',\n",
    "      '66A000', '529400', '3E8601', '207401', '056201', '004C00', '023B01',\n",
    "      '012E01', '011D01', '011301'\n",
    "    ]})\n",
    "print(url)\n",
    "\n",
    "# Display the thumbnail land surface temperature in France.\n",
    "print('\\nPlease wait while the thumbnail loads, it may take a moment...')\n",
    "Image(url=url)"
   ]
  },
  {
   "cell_type": "code",
   "execution_count": 9,
   "metadata": {
    "colab": {
     "base_uri": "https://localhost:8080/",
     "height": 1000
    },
    "id": "PzPh613EmMnU",
    "outputId": "c540c30f-78ac-452c-add8-e8260dad62e8"
   },
   "outputs": [
    {
     "data": {
      "text/html": [
       "<div style=\"width:100%;\"><div style=\"position:relative;width:100%;height:0;padding-bottom:60%;\"><span style=\"color:#565656\">Make this Notebook Trusted to load map: File -> Trust Notebook</span><iframe srcdoc=\"&lt;!DOCTYPE html&gt;\n",
       "&lt;html&gt;\n",
       "&lt;head&gt;\n",
       "    \n",
       "    &lt;meta http-equiv=&quot;content-type&quot; content=&quot;text/html; charset=UTF-8&quot; /&gt;\n",
       "    \n",
       "        &lt;script&gt;\n",
       "            L_NO_TOUCH = false;\n",
       "            L_DISABLE_3D = false;\n",
       "        &lt;/script&gt;\n",
       "    \n",
       "    &lt;style&gt;html, body {width: 100%;height: 100%;margin: 0;padding: 0;}&lt;/style&gt;\n",
       "    &lt;style&gt;#map {position:absolute;top:0;bottom:0;right:0;left:0;}&lt;/style&gt;\n",
       "    &lt;script src=&quot;https://cdn.jsdelivr.net/npm/leaflet@1.6.0/dist/leaflet.js&quot;&gt;&lt;/script&gt;\n",
       "    &lt;script src=&quot;https://code.jquery.com/jquery-1.12.4.min.js&quot;&gt;&lt;/script&gt;\n",
       "    &lt;script src=&quot;https://maxcdn.bootstrapcdn.com/bootstrap/3.2.0/js/bootstrap.min.js&quot;&gt;&lt;/script&gt;\n",
       "    &lt;script src=&quot;https://cdnjs.cloudflare.com/ajax/libs/Leaflet.awesome-markers/2.0.2/leaflet.awesome-markers.js&quot;&gt;&lt;/script&gt;\n",
       "    &lt;link rel=&quot;stylesheet&quot; href=&quot;https://cdn.jsdelivr.net/npm/leaflet@1.6.0/dist/leaflet.css&quot;/&gt;\n",
       "    &lt;link rel=&quot;stylesheet&quot; href=&quot;https://maxcdn.bootstrapcdn.com/bootstrap/3.2.0/css/bootstrap.min.css&quot;/&gt;\n",
       "    &lt;link rel=&quot;stylesheet&quot; href=&quot;https://maxcdn.bootstrapcdn.com/bootstrap/3.2.0/css/bootstrap-theme.min.css&quot;/&gt;\n",
       "    &lt;link rel=&quot;stylesheet&quot; href=&quot;https://maxcdn.bootstrapcdn.com/font-awesome/4.6.3/css/font-awesome.min.css&quot;/&gt;\n",
       "    &lt;link rel=&quot;stylesheet&quot; href=&quot;https://cdnjs.cloudflare.com/ajax/libs/Leaflet.awesome-markers/2.0.2/leaflet.awesome-markers.css&quot;/&gt;\n",
       "    &lt;link rel=&quot;stylesheet&quot; href=&quot;https://cdn.jsdelivr.net/gh/python-visualization/folium/folium/templates/leaflet.awesome.rotate.min.css&quot;/&gt;\n",
       "    \n",
       "            &lt;meta name=&quot;viewport&quot; content=&quot;width=device-width,\n",
       "                initial-scale=1.0, maximum-scale=1.0, user-scalable=no&quot; /&gt;\n",
       "            &lt;style&gt;\n",
       "                #map_7259055fc99b988f83eb7f963758a8dc {\n",
       "                    position: relative;\n",
       "                    width: 100.0%;\n",
       "                    height: 100.0%;\n",
       "                    left: 0.0%;\n",
       "                    top: 0.0%;\n",
       "                }\n",
       "            &lt;/style&gt;\n",
       "        \n",
       "&lt;/head&gt;\n",
       "&lt;body&gt;\n",
       "    \n",
       "    \n",
       "            &lt;div class=&quot;folium-map&quot; id=&quot;map_7259055fc99b988f83eb7f963758a8dc&quot; &gt;&lt;/div&gt;\n",
       "        \n",
       "&lt;/body&gt;\n",
       "&lt;script&gt;\n",
       "    \n",
       "    \n",
       "            var map_7259055fc99b988f83eb7f963758a8dc = L.map(\n",
       "                &quot;map_7259055fc99b988f83eb7f963758a8dc&quot;,\n",
       "                {\n",
       "                    center: [45.77, 4.855],\n",
       "                    crs: L.CRS.EPSG3857,\n",
       "                    zoom: 10,\n",
       "                    zoomControl: true,\n",
       "                    preferCanvas: false,\n",
       "                }\n",
       "            );\n",
       "\n",
       "            \n",
       "\n",
       "        \n",
       "    \n",
       "            var tile_layer_889eae496421180108984795209a5219 = L.tileLayer(\n",
       "                &quot;https://{s}.tile.openstreetmap.org/{z}/{x}/{y}.png&quot;,\n",
       "                {&quot;attribution&quot;: &quot;Data by \\u0026copy; \\u003ca href=\\&quot;http://openstreetmap.org\\&quot;\\u003eOpenStreetMap\\u003c/a\\u003e, under \\u003ca href=\\&quot;http://www.openstreetmap.org/copyright\\&quot;\\u003eODbL\\u003c/a\\u003e.&quot;, &quot;detectRetina&quot;: false, &quot;maxNativeZoom&quot;: 18, &quot;maxZoom&quot;: 18, &quot;minZoom&quot;: 0, &quot;noWrap&quot;: false, &quot;opacity&quot;: 1, &quot;subdomains&quot;: &quot;abc&quot;, &quot;tms&quot;: false}\n",
       "            ).addTo(map_7259055fc99b988f83eb7f963758a8dc);\n",
       "        \n",
       "&lt;/script&gt;\n",
       "&lt;/html&gt;\" style=\"position:absolute;width:100%;height:100%;left:0;top:0;border:none !important;\" allowfullscreen webkitallowfullscreen mozallowfullscreen></iframe></div></div>"
      ],
      "text/plain": [
       "<folium.folium.Map at 0x1efac23f808>"
      ]
     },
     "execution_count": 9,
     "metadata": {},
     "output_type": "execute_result"
    }
   ],
   "source": [
    "import folium\n",
    "import numpy as np\n",
    "\n",
    "# Define the center of our map.\n",
    "lat, lon = 45.77, 4.855\n",
    "center_point = np.array([[lat, lon]])\n",
    "\n",
    "my_map = folium.Map(location=[lat, lon], zoom_start=10)\n",
    "my_map\n",
    "\n"
   ]
  },
  {
   "cell_type": "code",
   "execution_count": 10,
   "metadata": {
    "id": "zZOTwv-YnBct"
   },
   "outputs": [],
   "source": [
    "def add_ee_layer(self, ee_image_object, vis_params, name):\n",
    "    \"\"\"Adds a method for displaying Earth Engine image tiles to folium map.\"\"\"\n",
    "    map_id_dict = ee.Image(ee_image_object).getMapId(vis_params)\n",
    "    folium.raster_layers.TileLayer(\n",
    "        tiles=map_id_dict['tile_fetcher'].url_format,\n",
    "        attr='Map Data &copy; <a href=\"https://earthengine.google.com/\">Google Earth Engine</a>',\n",
    "        name=name,\n",
    "        overlay=True,\n",
    "        control=True\n",
    "    ).add_to(self)\n",
    "\n",
    "# Add Earth Engine drawing method to folium.\n",
    "folium.Map.add_ee_layer = add_ee_layer"
   ]
  },
  {
   "cell_type": "code",
   "execution_count": 11,
   "metadata": {
    "colab": {
     "base_uri": "https://localhost:8080/",
     "height": 1000
    },
    "id": "DLgGKaVHn9bu",
    "outputId": "1e48dfda-8abe-4457-e894-d9b979d98258"
   },
   "outputs": [
    {
     "data": {
      "text/html": [
       "<div style=\"width:100%;\"><div style=\"position:relative;width:100%;height:0;padding-bottom:60%;\"><span style=\"color:#565656\">Make this Notebook Trusted to load map: File -> Trust Notebook</span><iframe srcdoc=\"&lt;!DOCTYPE html&gt;\n",
       "&lt;html&gt;\n",
       "&lt;head&gt;\n",
       "    \n",
       "    &lt;meta http-equiv=&quot;content-type&quot; content=&quot;text/html; charset=UTF-8&quot; /&gt;\n",
       "    \n",
       "        &lt;script&gt;\n",
       "            L_NO_TOUCH = false;\n",
       "            L_DISABLE_3D = false;\n",
       "        &lt;/script&gt;\n",
       "    \n",
       "    &lt;style&gt;html, body {width: 100%;height: 100%;margin: 0;padding: 0;}&lt;/style&gt;\n",
       "    &lt;style&gt;#map {position:absolute;top:0;bottom:0;right:0;left:0;}&lt;/style&gt;\n",
       "    &lt;script src=&quot;https://cdn.jsdelivr.net/npm/leaflet@1.6.0/dist/leaflet.js&quot;&gt;&lt;/script&gt;\n",
       "    &lt;script src=&quot;https://code.jquery.com/jquery-1.12.4.min.js&quot;&gt;&lt;/script&gt;\n",
       "    &lt;script src=&quot;https://maxcdn.bootstrapcdn.com/bootstrap/3.2.0/js/bootstrap.min.js&quot;&gt;&lt;/script&gt;\n",
       "    &lt;script src=&quot;https://cdnjs.cloudflare.com/ajax/libs/Leaflet.awesome-markers/2.0.2/leaflet.awesome-markers.js&quot;&gt;&lt;/script&gt;\n",
       "    &lt;link rel=&quot;stylesheet&quot; href=&quot;https://cdn.jsdelivr.net/npm/leaflet@1.6.0/dist/leaflet.css&quot;/&gt;\n",
       "    &lt;link rel=&quot;stylesheet&quot; href=&quot;https://maxcdn.bootstrapcdn.com/bootstrap/3.2.0/css/bootstrap.min.css&quot;/&gt;\n",
       "    &lt;link rel=&quot;stylesheet&quot; href=&quot;https://maxcdn.bootstrapcdn.com/bootstrap/3.2.0/css/bootstrap-theme.min.css&quot;/&gt;\n",
       "    &lt;link rel=&quot;stylesheet&quot; href=&quot;https://maxcdn.bootstrapcdn.com/font-awesome/4.6.3/css/font-awesome.min.css&quot;/&gt;\n",
       "    &lt;link rel=&quot;stylesheet&quot; href=&quot;https://cdnjs.cloudflare.com/ajax/libs/Leaflet.awesome-markers/2.0.2/leaflet.awesome-markers.css&quot;/&gt;\n",
       "    &lt;link rel=&quot;stylesheet&quot; href=&quot;https://cdn.jsdelivr.net/gh/python-visualization/folium/folium/templates/leaflet.awesome.rotate.min.css&quot;/&gt;\n",
       "    \n",
       "            &lt;meta name=&quot;viewport&quot; content=&quot;width=device-width,\n",
       "                initial-scale=1.0, maximum-scale=1.0, user-scalable=no&quot; /&gt;\n",
       "            &lt;style&gt;\n",
       "                #map_8636b6aca6d192d9c4a9da6165ac9924 {\n",
       "                    position: relative;\n",
       "                    width: 100.0%;\n",
       "                    height: 100.0%;\n",
       "                    left: 0.0%;\n",
       "                    top: 0.0%;\n",
       "                }\n",
       "            &lt;/style&gt;\n",
       "        \n",
       "&lt;/head&gt;\n",
       "&lt;body&gt;\n",
       "    \n",
       "    \n",
       "            &lt;div class=&quot;folium-map&quot; id=&quot;map_8636b6aca6d192d9c4a9da6165ac9924&quot; &gt;&lt;/div&gt;\n",
       "        \n",
       "&lt;/body&gt;\n",
       "&lt;script&gt;\n",
       "    \n",
       "    \n",
       "            var map_8636b6aca6d192d9c4a9da6165ac9924 = L.map(\n",
       "                &quot;map_8636b6aca6d192d9c4a9da6165ac9924&quot;,\n",
       "                {\n",
       "                    center: [45.77, 4.855],\n",
       "                    crs: L.CRS.EPSG3857,\n",
       "                    zoom: 7,\n",
       "                    zoomControl: true,\n",
       "                    preferCanvas: false,\n",
       "                }\n",
       "            );\n",
       "\n",
       "            \n",
       "\n",
       "        \n",
       "    \n",
       "            var tile_layer_1aa07cc16ce1dbcc8948b8bf31e10aaa = L.tileLayer(\n",
       "                &quot;https://{s}.tile.openstreetmap.org/{z}/{x}/{y}.png&quot;,\n",
       "                {&quot;attribution&quot;: &quot;Data by \\u0026copy; \\u003ca href=\\&quot;http://openstreetmap.org\\&quot;\\u003eOpenStreetMap\\u003c/a\\u003e, under \\u003ca href=\\&quot;http://www.openstreetmap.org/copyright\\&quot;\\u003eODbL\\u003c/a\\u003e.&quot;, &quot;detectRetina&quot;: false, &quot;maxNativeZoom&quot;: 18, &quot;maxZoom&quot;: 18, &quot;minZoom&quot;: 0, &quot;noWrap&quot;: false, &quot;opacity&quot;: 1, &quot;subdomains&quot;: &quot;abc&quot;, &quot;tms&quot;: false}\n",
       "            ).addTo(map_8636b6aca6d192d9c4a9da6165ac9924);\n",
       "        \n",
       "    \n",
       "            var tile_layer_e6a7e267607925e6a8cfc3b5ba3d8261 = L.tileLayer(\n",
       "                &quot;https://earthengine.googleapis.com/v1alpha/projects/earthengine-legacy/maps/eb6c285be341ec8de71c64e340f91537-73c7db9e55b7a4dceaf0aee745fcc1b1/tiles/{z}/{x}/{y}&quot;,\n",
       "                {&quot;attribution&quot;: &quot;Map Data \\u0026copy; \\u003ca href=\\&quot;https://earthengine.google.com/\\&quot;\\u003eGoogle Earth Engine\\u003c/a\\u003e&quot;, &quot;detectRetina&quot;: false, &quot;maxNativeZoom&quot;: 18, &quot;maxZoom&quot;: 18, &quot;minZoom&quot;: 0, &quot;noWrap&quot;: false, &quot;opacity&quot;: 1, &quot;subdomains&quot;: &quot;abc&quot;, &quot;tms&quot;: false}\n",
       "            ).addTo(map_8636b6aca6d192d9c4a9da6165ac9924);\n",
       "        \n",
       "    \n",
       "            var layer_control_b929be2dbfe594708600534a8d7ab091 = {\n",
       "                base_layers : {\n",
       "                    &quot;openstreetmap&quot; : tile_layer_1aa07cc16ce1dbcc8948b8bf31e10aaa,\n",
       "                },\n",
       "                overlays :  {\n",
       "                    &quot;Land Cover&quot; : tile_layer_e6a7e267607925e6a8cfc3b5ba3d8261,\n",
       "                },\n",
       "            };\n",
       "            L.control.layers(\n",
       "                layer_control_b929be2dbfe594708600534a8d7ab091.base_layers,\n",
       "                layer_control_b929be2dbfe594708600534a8d7ab091.overlays,\n",
       "                {&quot;autoZIndex&quot;: true, &quot;collapsed&quot;: true, &quot;position&quot;: &quot;topright&quot;}\n",
       "            ).addTo(map_8636b6aca6d192d9c4a9da6165ac9924);\n",
       "        \n",
       "&lt;/script&gt;\n",
       "&lt;/html&gt;\" style=\"position:absolute;width:100%;height:100%;left:0;top:0;border:none !important;\" allowfullscreen webkitallowfullscreen mozallowfullscreen></iframe></div></div>"
      ],
      "text/plain": [
       "<folium.folium.Map at 0x1efac237fc8>"
      ]
     },
     "metadata": {},
     "output_type": "display_data"
    }
   ],
   "source": [
    "\n",
    "new_img = new_ds.mean()\n",
    "\n",
    "new_img = new_img.select('NDVI')\n",
    "\n",
    "roi = u_poi.buffer(1e6)\n",
    "\n",
    "# Create a URL to the styled image for a region around France.\n",
    "url = new_img.getThumbUrl({\n",
    "    'min': 0.0,\n",
    "    'max': 9000.0,\n",
    "    'dimensions': 512,\n",
    "    'region': roi,\n",
    "    'palette': [\n",
    "      'FFFFFF', 'CE7E45', 'DF923D', 'F1B555', 'FCD163', '99B718', '74A901',\n",
    "      '66A000', '529400', '3E8601', '207401', '056201', '004C00', '023B01',\n",
    "      '012E01', '011D01', '011301'\n",
    "    ]})\n",
    "\n",
    "# Set visualization parameters for land cover.\n",
    "new_vis_params = {\n",
    "'min': 0.0,\n",
    "    'max': 9000.0,\n",
    "    # 'dimensions': 512,\n",
    "    # 'region': roi,\n",
    "    'palette': [\n",
    "      'FFFFFF', 'CE7E45', 'DF923D', 'F1B555', 'FCD163', '99B718', '74A901',\n",
    "      '66A000', '529400', '3E8601', '207401', '056201', '004C00', '023B01',\n",
    "      '012E01', '011D01', '011301']\n",
    "}\n",
    "\n",
    "# Create a map.\n",
    "lat, lon = 45.77, 4.855\n",
    "my_map = folium.Map(location=[lat, lon], zoom_start=7)\n",
    "\n",
    "# Add the land cover to the map object.\n",
    "my_map.add_ee_layer(new_img, new_vis_params, 'Land Cover')\n",
    "\n",
    "# Add a layer control panel to the map.\n",
    "my_map.add_child(folium.LayerControl())\n",
    "\n",
    "# Display the map.\n",
    "display(my_map)"
   ]
  },
  {
   "cell_type": "code",
   "execution_count": 12,
   "metadata": {
    "colab": {
     "base_uri": "https://localhost:8080/",
     "height": 1000
    },
    "id": "a2eRr9h_q4ZW",
    "outputId": "581470ea-b9f1-4e83-f244-dc7008bf00f0"
   },
   "outputs": [
    {
     "name": "stdout",
     "output_type": "stream",
     "text": [
      "[['51.73670478671133', '-2.793015486439879'], ['47.03948810758184', '2.3293842635186883'], ['50.36174911874909', '5.621946486211855'], ['48.593461493371066', '-0.6781424356185948'], ['45.49674816410404', '-3.070831390937472'], ['41.65436857132575', '-2.8853209028902267'], ['54.30701825371594', '-2.744365404220174'], ['48.21407201761402', '7.932805143366707'], ['47.94673855674727', '-1.417447116985553'], ['48.21083982030422', '-1.6949874785298444']]\n"
     ]
    },
    {
     "data": {
      "text/html": [
       "<div style=\"width:100%;\"><div style=\"position:relative;width:100%;height:0;padding-bottom:60%;\"><span style=\"color:#565656\">Make this Notebook Trusted to load map: File -> Trust Notebook</span><iframe srcdoc=\"&lt;!DOCTYPE html&gt;\n",
       "&lt;html&gt;\n",
       "&lt;head&gt;\n",
       "    \n",
       "    &lt;meta http-equiv=&quot;content-type&quot; content=&quot;text/html; charset=UTF-8&quot; /&gt;\n",
       "    \n",
       "        &lt;script&gt;\n",
       "            L_NO_TOUCH = false;\n",
       "            L_DISABLE_3D = false;\n",
       "        &lt;/script&gt;\n",
       "    \n",
       "    &lt;style&gt;html, body {width: 100%;height: 100%;margin: 0;padding: 0;}&lt;/style&gt;\n",
       "    &lt;style&gt;#map {position:absolute;top:0;bottom:0;right:0;left:0;}&lt;/style&gt;\n",
       "    &lt;script src=&quot;https://cdn.jsdelivr.net/npm/leaflet@1.6.0/dist/leaflet.js&quot;&gt;&lt;/script&gt;\n",
       "    &lt;script src=&quot;https://code.jquery.com/jquery-1.12.4.min.js&quot;&gt;&lt;/script&gt;\n",
       "    &lt;script src=&quot;https://maxcdn.bootstrapcdn.com/bootstrap/3.2.0/js/bootstrap.min.js&quot;&gt;&lt;/script&gt;\n",
       "    &lt;script src=&quot;https://cdnjs.cloudflare.com/ajax/libs/Leaflet.awesome-markers/2.0.2/leaflet.awesome-markers.js&quot;&gt;&lt;/script&gt;\n",
       "    &lt;link rel=&quot;stylesheet&quot; href=&quot;https://cdn.jsdelivr.net/npm/leaflet@1.6.0/dist/leaflet.css&quot;/&gt;\n",
       "    &lt;link rel=&quot;stylesheet&quot; href=&quot;https://maxcdn.bootstrapcdn.com/bootstrap/3.2.0/css/bootstrap.min.css&quot;/&gt;\n",
       "    &lt;link rel=&quot;stylesheet&quot; href=&quot;https://maxcdn.bootstrapcdn.com/bootstrap/3.2.0/css/bootstrap-theme.min.css&quot;/&gt;\n",
       "    &lt;link rel=&quot;stylesheet&quot; href=&quot;https://maxcdn.bootstrapcdn.com/font-awesome/4.6.3/css/font-awesome.min.css&quot;/&gt;\n",
       "    &lt;link rel=&quot;stylesheet&quot; href=&quot;https://cdnjs.cloudflare.com/ajax/libs/Leaflet.awesome-markers/2.0.2/leaflet.awesome-markers.css&quot;/&gt;\n",
       "    &lt;link rel=&quot;stylesheet&quot; href=&quot;https://cdn.jsdelivr.net/gh/python-visualization/folium/folium/templates/leaflet.awesome.rotate.min.css&quot;/&gt;\n",
       "    \n",
       "            &lt;meta name=&quot;viewport&quot; content=&quot;width=device-width,\n",
       "                initial-scale=1.0, maximum-scale=1.0, user-scalable=no&quot; /&gt;\n",
       "            &lt;style&gt;\n",
       "                #map_8636b6aca6d192d9c4a9da6165ac9924 {\n",
       "                    position: relative;\n",
       "                    width: 100.0%;\n",
       "                    height: 100.0%;\n",
       "                    left: 0.0%;\n",
       "                    top: 0.0%;\n",
       "                }\n",
       "            &lt;/style&gt;\n",
       "        \n",
       "&lt;/head&gt;\n",
       "&lt;body&gt;\n",
       "    \n",
       "    \n",
       "            &lt;div class=&quot;folium-map&quot; id=&quot;map_8636b6aca6d192d9c4a9da6165ac9924&quot; &gt;&lt;/div&gt;\n",
       "        \n",
       "&lt;/body&gt;\n",
       "&lt;script&gt;\n",
       "    \n",
       "    \n",
       "            var map_8636b6aca6d192d9c4a9da6165ac9924 = L.map(\n",
       "                &quot;map_8636b6aca6d192d9c4a9da6165ac9924&quot;,\n",
       "                {\n",
       "                    center: [45.77, 4.855],\n",
       "                    crs: L.CRS.EPSG3857,\n",
       "                    zoom: 7,\n",
       "                    zoomControl: true,\n",
       "                    preferCanvas: false,\n",
       "                }\n",
       "            );\n",
       "\n",
       "            \n",
       "\n",
       "        \n",
       "    \n",
       "            var tile_layer_1aa07cc16ce1dbcc8948b8bf31e10aaa = L.tileLayer(\n",
       "                &quot;https://{s}.tile.openstreetmap.org/{z}/{x}/{y}.png&quot;,\n",
       "                {&quot;attribution&quot;: &quot;Data by \\u0026copy; \\u003ca href=\\&quot;http://openstreetmap.org\\&quot;\\u003eOpenStreetMap\\u003c/a\\u003e, under \\u003ca href=\\&quot;http://www.openstreetmap.org/copyright\\&quot;\\u003eODbL\\u003c/a\\u003e.&quot;, &quot;detectRetina&quot;: false, &quot;maxNativeZoom&quot;: 18, &quot;maxZoom&quot;: 18, &quot;minZoom&quot;: 0, &quot;noWrap&quot;: false, &quot;opacity&quot;: 1, &quot;subdomains&quot;: &quot;abc&quot;, &quot;tms&quot;: false}\n",
       "            ).addTo(map_8636b6aca6d192d9c4a9da6165ac9924);\n",
       "        \n",
       "    \n",
       "            var tile_layer_e6a7e267607925e6a8cfc3b5ba3d8261 = L.tileLayer(\n",
       "                &quot;https://earthengine.googleapis.com/v1alpha/projects/earthengine-legacy/maps/eb6c285be341ec8de71c64e340f91537-73c7db9e55b7a4dceaf0aee745fcc1b1/tiles/{z}/{x}/{y}&quot;,\n",
       "                {&quot;attribution&quot;: &quot;Map Data \\u0026copy; \\u003ca href=\\&quot;https://earthengine.google.com/\\&quot;\\u003eGoogle Earth Engine\\u003c/a\\u003e&quot;, &quot;detectRetina&quot;: false, &quot;maxNativeZoom&quot;: 18, &quot;maxZoom&quot;: 18, &quot;minZoom&quot;: 0, &quot;noWrap&quot;: false, &quot;opacity&quot;: 1, &quot;subdomains&quot;: &quot;abc&quot;, &quot;tms&quot;: false}\n",
       "            ).addTo(map_8636b6aca6d192d9c4a9da6165ac9924);\n",
       "        \n",
       "    \n",
       "            var layer_control_b929be2dbfe594708600534a8d7ab091 = {\n",
       "                base_layers : {\n",
       "                    &quot;openstreetmap&quot; : tile_layer_1aa07cc16ce1dbcc8948b8bf31e10aaa,\n",
       "                },\n",
       "                overlays :  {\n",
       "                    &quot;Land Cover&quot; : tile_layer_e6a7e267607925e6a8cfc3b5ba3d8261,\n",
       "                },\n",
       "            };\n",
       "            L.control.layers(\n",
       "                layer_control_b929be2dbfe594708600534a8d7ab091.base_layers,\n",
       "                layer_control_b929be2dbfe594708600534a8d7ab091.overlays,\n",
       "                {&quot;autoZIndex&quot;: true, &quot;collapsed&quot;: true, &quot;position&quot;: &quot;topright&quot;}\n",
       "            ).addTo(map_8636b6aca6d192d9c4a9da6165ac9924);\n",
       "        \n",
       "    \n",
       "            var marker_652710099dfec7ac1edd23922b542292 = L.marker(\n",
       "                [51.73670478671133, -2.793015486439879],\n",
       "                {}\n",
       "            ).addTo(map_8636b6aca6d192d9c4a9da6165ac9924);\n",
       "        \n",
       "    \n",
       "            var marker_239c459bf7a60e4337baef045de3a5dc = L.marker(\n",
       "                [47.03948810758184, 2.3293842635186883],\n",
       "                {}\n",
       "            ).addTo(map_8636b6aca6d192d9c4a9da6165ac9924);\n",
       "        \n",
       "    \n",
       "            var marker_6d74ff36fbaf8961f590be7b0bfc8ff3 = L.marker(\n",
       "                [50.36174911874909, 5.621946486211855],\n",
       "                {}\n",
       "            ).addTo(map_8636b6aca6d192d9c4a9da6165ac9924);\n",
       "        \n",
       "    \n",
       "            var marker_b1b859b6880d1f25fd47eb10c9db3aed = L.marker(\n",
       "                [48.593461493371066, -0.6781424356185948],\n",
       "                {}\n",
       "            ).addTo(map_8636b6aca6d192d9c4a9da6165ac9924);\n",
       "        \n",
       "    \n",
       "            var marker_a125b91cde2618d6ea78bb1aa8021eb2 = L.marker(\n",
       "                [45.49674816410404, -3.070831390937472],\n",
       "                {}\n",
       "            ).addTo(map_8636b6aca6d192d9c4a9da6165ac9924);\n",
       "        \n",
       "    \n",
       "            var marker_63012109d788f58ec946e7bd488cf934 = L.marker(\n",
       "                [41.65436857132575, -2.8853209028902267],\n",
       "                {}\n",
       "            ).addTo(map_8636b6aca6d192d9c4a9da6165ac9924);\n",
       "        \n",
       "    \n",
       "            var marker_5ebe2ed610095831cf675337b742d068 = L.marker(\n",
       "                [54.30701825371594, -2.744365404220174],\n",
       "                {}\n",
       "            ).addTo(map_8636b6aca6d192d9c4a9da6165ac9924);\n",
       "        \n",
       "    \n",
       "            var marker_9c91d67116e8f4ebc900372bb2e9de20 = L.marker(\n",
       "                [48.21407201761402, 7.932805143366707],\n",
       "                {}\n",
       "            ).addTo(map_8636b6aca6d192d9c4a9da6165ac9924);\n",
       "        \n",
       "    \n",
       "            var marker_57f0431b2ce7b196d302ce3f44f8c956 = L.marker(\n",
       "                [47.94673855674727, -1.417447116985553],\n",
       "                {}\n",
       "            ).addTo(map_8636b6aca6d192d9c4a9da6165ac9924);\n",
       "        \n",
       "    \n",
       "            var marker_a09c8cb8866612a6688af171415f0e96 = L.marker(\n",
       "                [48.21083982030422, -1.6949874785298444],\n",
       "                {}\n",
       "            ).addTo(map_8636b6aca6d192d9c4a9da6165ac9924);\n",
       "        \n",
       "&lt;/script&gt;\n",
       "&lt;/html&gt;\" style=\"position:absolute;width:100%;height:100%;left:0;top:0;border:none !important;\" allowfullscreen webkitallowfullscreen mozallowfullscreen></iframe></div></div>"
      ],
      "text/plain": [
       "<folium.folium.Map at 0x1efac237fc8>"
      ]
     },
     "metadata": {},
     "output_type": "display_data"
    }
   ],
   "source": [
    "# locationlist = [[\"45.77\", \"4.855\"], [\"45.77\", \"5.855\"], [\"45.77\", \"6.855\"]]\n",
    "import numpy as np\n",
    "N = 10\n",
    "\n",
    "# 111km = 1deg\n",
    "def km_to_deg(km):\n",
    "  return km/111\n",
    "\n",
    "def m_to_deg(m):\n",
    "  return (m/1.11)*0.00001\n",
    "\n",
    "step_250 = m_to_deg(250)\n",
    "\n",
    "radius = km_to_deg(1000)\n",
    "\n",
    "lan, lon = 45.77, 4.855\n",
    "points = [lan, lon] + (np.random.random((N,2))*2-1.0)*radius\n",
    "\n",
    "str_points = [[str(point[0]),str(point[1])] for point in points]\n",
    "\n",
    "print(str_points)\n",
    "\n",
    "\n",
    "for point in range(0, len(str_points)):\n",
    "    folium.Marker(str_points[point]).add_to(my_map)\n",
    "\n",
    "display(my_map)"
   ]
  },
  {
   "cell_type": "code",
   "execution_count": 13,
   "metadata": {
    "collapsed": false,
    "pycharm": {
     "name": "#%%\n"
    }
   },
   "outputs": [],
   "source": [
    "from emukit.core import ParameterSpace, ContinuousParameter\n",
    "from emukit.test_functions.forrester import forrester\n",
    "from emukit.experimental_design import ExperimentalDesignLoop\n",
    "import numpy as np\n",
    "import GPy\n",
    "from emukit.experimental_design.acquisitions import IntegratedVarianceReduction, ModelVariance\n",
    "from emukit.model_wrappers.gpy_model_wrappers import GPyModelWrapper\n",
    "from emukit.core.optimization import GradientAcquisitionOptimizer\n",
    "\n",
    "def forrester_fcn(x):\n",
    "    return forrester(x, sd=0)\n",
    "target_function = np.sin\n",
    "space = ParameterSpace([ContinuousParameter('x', 0, 1)])\n",
    "\n",
    "X_init = np.array([[0.2],[0.6], [0.9]])\n",
    "Y_init = target_function(X_init)\n",
    "\n",
    "kern = GPy.kern.RBF(1, lengthscale=0.08, variance=20)\n",
    "gpy_model = GPy.models.GPRegression(X_init, Y_init, kern, noise_var=1e-10)\n",
    "emukit_model = GPyModelWrapper(gpy_model)\n",
    "\n",
    "# mu_plot, var_plot = emukit_model.predict(x_plot)\n",
    "\n",
    "us_acquisition = ModelVariance(emukit_model)\n",
    "ivr_acquisition = IntegratedVarianceReduction(emukit_model, space)\n",
    "\n",
    "#us_plot = us_acquisition.evaluate(x_plot)\n",
    "#ivr_plot = ivr_acquisition.evaluate(x_plot)\n",
    "\n",
    "optimizer = GradientAcquisitionOptimizer(space)\n",
    "x_new, _ = optimizer.optimize(us_acquisition)\n",
    "y_new = target_function(x_new)\n",
    "X = np.append(X_init, x_new, axis=0)\n",
    "Y = np.append(Y_init, y_new, axis=0)\n",
    "\n",
    "emukit_model.set_data(X, Y)\n",
    "x_plot = np.linspace(space.parameters[0].min, space.parameters[0].max, 301)[:, None]\n",
    "y_plot = target_function(x_plot)\n",
    "\n",
    "ed = ExperimentalDesignLoop(space=space, model=emukit_model)\n",
    "\n",
    "ed.run_loop(target_function, 10)"
   ]
  },
  {
   "cell_type": "code",
   "execution_count": 14,
   "metadata": {
    "collapsed": false,
    "pycharm": {
     "name": "#%%\n"
    }
   },
   "outputs": [
    {
     "data": {
      "image/png": "[encoded data removed]",
      "text/plain": [
       "<Figure size 432x288 with 1 Axes>"
      ]
     },
     "metadata": {
      "needs_background": "light"
     },
     "output_type": "display_data"
    }
   ],
   "source": [
    "import matplotlib.pyplot as plt\n",
    "fig, ax = plt.subplots()\n",
    "def helper_plot_emulator_errorbars():\n",
    "    \"\"\"Helper function for plotting the emulator fit.\"\"\"\n",
    "    mu_plot, var_plot = emukit_model.predict(x_plot)\n",
    "    ax.plot(emukit_model.X, emukit_model.Y, 'ro', markersize=5, label='observations')\n",
    "    ax.plot(x_plot, mu_plot, 'C0', label='model', linewidth=1)\n",
    "    ax.plot(x_plot, y_plot, 'k', label='target function', linewidth=2)\n",
    "    ax.fill_between(x_plot[:, 0],\n",
    "                 mu_plot[:, 0] + np.sqrt(var_plot)[:, 0],\n",
    "                 mu_plot[:, 0] - np.sqrt(var_plot)[:, 0], color='C0', alpha=0.6)\n",
    "    ax.fill_between(x_plot[:, 0],\n",
    "                 mu_plot[:, 0] + 2 * np.sqrt(var_plot)[:, 0],\n",
    "                 mu_plot[:, 0] - 2 * np.sqrt(var_plot)[:, 0], color='C0', alpha=0.4)\n",
    "    ax.fill_between(x_plot[:, 0],\n",
    "                 mu_plot[:, 0] + 3 * np.sqrt(var_plot)[:, 0],\n",
    "                 mu_plot[:, 0] - 3 * np.sqrt(var_plot)[:, 0], color='C0', alpha=0.2)\n",
    "    ax.legend(loc=2)\n",
    "    ax.set_xlabel('$x$')\n",
    "    ax.set_ylabel('$f(x)$')\n",
    "    ax.grid(True)\n",
    "    ax.set_xlim(-0.01, 1)\n",
    "    #ax.set_ylim([-20, 20])\n",
    "helper_plot_emulator_errorbars()"
   ]
  },
  {
   "cell_type": "code",
   "execution_count": 19,
   "metadata": {
    "collapsed": false,
    "pycharm": {
     "name": "#%%\n"
    }
   },
   "outputs": [
    {
     "name": "stdout",
     "output_type": "stream",
     "text": [
      "[[-1.   -1.  ]\n",
      " [-1.   -0.95]\n",
      " [-1.   -0.9 ]\n",
      " ...\n",
      " [ 1.    0.9 ]\n",
      " [ 1.    0.95]\n",
      " [ 1.    1.  ]]\n"
     ]
    }
   ],
   "source": [
    "from emukit.core import ParameterSpace, ContinuousParameter, DiscreteParameter\n",
    "from emukit.test_functions.forrester import forrester\n",
    "from emukit.experimental_design import ExperimentalDesignLoop\n",
    "import numpy as np\n",
    "import GPy\n",
    "from emukit.experimental_design.acquisitions import IntegratedVarianceReduction, ModelVariance\n",
    "from emukit.model_wrappers.gpy_model_wrappers import GPyModelWrapper\n",
    "from emukit.core.optimization import GradientAcquisitionOptimizer\n",
    "\n",
    "num_points = 41 # per direction\n",
    "num_points_plot = num_points\n",
    "\n",
    "def NDVI_at(coords):\n",
    "    coords = center_point + m_to_deg(coords * (250 * num_points) / 2)\n",
    "    # print(coords.shape)\n",
    "    # print(coords[0])\n",
    "    geom_coords = ee.FeatureCollection([ee.Geometry.Point(c[0], c[1]) for c in coords])\n",
    "    samples = new_ds.mean().reduceRegions(**{\n",
    "        'collection': geom_coords,\n",
    "        'scale': scale,\n",
    "        'reducer': 'mean'}).getInfo()\n",
    "    sample_results = []\n",
    "    for sample in samples['features']:\n",
    "        # print(sample)\n",
    "        sample_results = sample_results + [sample['properties']['NDVI']]\n",
    "    # print('Samples: ', sample_results)\n",
    "    # values = np.array([new_ds.mean().sample(ee.Geometry.Point(c[0], c[1]), scale).first().get('NDVI').getInfo() for c in coords])[:, None]\n",
    "    values = np.array(sample_results)[:,None]\n",
    "        # print(values)\n",
    "    return values\n",
    "target_function = NDVI_at\n",
    "space = ParameterSpace([DiscreteParameter('x', np.linspace(-1, 1, num_points)), DiscreteParameter('y', np.linspace(-1, 1, num_points))])\n",
    "\n",
    "X_init = np.array([[0.2, 0.4],[0.6, -0.4], [0.9, 0.0]])\n",
    "Y_init = target_function(X_init)\n",
    "\n",
    "kern = GPy.kern.RBF(1, lengthscale=0.08, variance=20)\n",
    "gpy_model = GPy.models.GPRegression(X_init, Y_init, kern, noise_var=1e-10)\n",
    "emukit_model = GPyModelWrapper(gpy_model)\n",
    "\n",
    "\n",
    "us_acquisition = ModelVariance(emukit_model)\n",
    "ivr_acquisition = IntegratedVarianceReduction(emukit_model, space)\n",
    "\n",
    "optimizer = GradientAcquisitionOptimizer(space)\n",
    "x_new, _ = optimizer.optimize(us_acquisition)\n",
    "y_new = target_function(x_new)\n",
    "X = np.append(X_init, x_new, axis=0)\n",
    "Y = np.append(Y_init, y_new, axis=0)\n",
    "\n",
    "emukit_model.set_data(X, Y)\n",
    "# print(space.parameters)\n",
    "x_plot = np.meshgrid(np.linspace(-1, 1, num_points_plot),\n",
    "                     np.linspace(-1, 1, num_points_plot))\n",
    "\n",
    "x_plot = np.stack((x_plot[1], x_plot[0]), axis=-1).reshape(-1,2)\n",
    "# print(x_plot)\n",
    "y_plot = target_function(x_plot)\n",
    "\n",
    "print(x_plot)\n",
    "#ed = ExperimentalDesignLoop(space=space, model=emukit_model)\n",
    "\n",
    "#ed.run_loop(target_function, 10)"
   ]
  },
  {
   "cell_type": "code",
   "execution_count": 24,
   "metadata": {},
   "outputs": [
    {
     "name": "stdout",
     "output_type": "stream",
     "text": [
      "[[ 0.2   0.2 ]\n",
      " [ 0.6   0.6 ]\n",
      " [ 0.9   0.  ]\n",
      " [-0.7  -0.05]]\n"
     ]
    },
    {
     "data": {
      "image/png": "[encoded data removed]",
      "text/plain": [
       "<Figure size 432x288 with 1 Axes>"
      ]
     },
     "metadata": {
      "needs_background": "light"
     },
     "output_type": "display_data"
    }
   ],
   "source": [
    "import matplotlib.pyplot as plt\n",
    "fig, ax = plt.subplots()\n",
    "def plot_2D():\n",
    "    mu_plot, var_plot = emukit_model.predict(x_plot)\n",
    "    #print(x_plot.shape, mu_plot.shape, var_plot.shape)\n",
    "    # ax.plot(emukit_model.X, emukit_model.Y, 'ro', markersize=5, label='observations')\n",
    "    # ax.plot(x_plot, mu_plot, 'C0', label='model', linewidth=1)\n",
    "    # ax.plot(x_plot, y_plot, 'k', label='target function', linewidth=2)\n",
    "    # ax.fill_between(x_plot[:, 0],\n",
    "    #              mu_plot[:, 0] + np.sqrt(var_plot)[:, 0],\n",
    "    #              mu_plot[:, 0] - np.sqrt(var_plot)[:, 0], color='C0', alpha=0.6)\n",
    "    # ax.fill_between(x_plot[:, 0],\n",
    "    #              mu_plot[:, 0] + 2 * np.sqrt(var_plot)[:, 0],\n",
    "    #              mu_plot[:, 0] - 2 * np.sqrt(var_plot)[:, 0], color='C0', alpha=0.4)\n",
    "    # ax.fill_between(x_plot[:, 0],\n",
    "    #              mu_plot[:, 0] + 3 * np.sqrt(var_plot)[:, 0],\n",
    "    #              mu_plot[:, 0] - 3 * np.sqrt(var_plot)[:, 0], color='C0', alpha=0.2)\n",
    "    # ax.legend(loc=2)\n",
    "    #print(mu_plot.reshape(num_points, num_points).shape)\n",
    "    # ax.imshow(mu_plot.reshape(num_points, num_points))\n",
    "    min_NDVI = 2000\n",
    "    max_NDVI = 3000\n",
    "    mu_plot = NDVI_at(x_plot)\n",
    "    ax.imshow(mu_plot.reshape(num_points, num_points), vmin=min_NDVI, vmax=max_NDVI)\n",
    "    ax.scatter((emukit_model.X[:, 1] + 1) * num_points / 2, (emukit_model.X[:, 0] + 1) * num_points / 2, c=emukit_model.Y[:, 0], label='observations', vmin=min_NDVI, vmax=max_NDVI)\n",
    "    ax.set_xlabel('$x$')\n",
    "    ax.set_ylabel('$y$')\n",
    "\n",
    "    print(emukit_model.X)\n",
    "    #ax.grid(True)\n",
    "    #ax.set_xlim(-0.01, 1)\n",
    "    #ax.set_ylim([-20, 20])\n",
    "plot_2D()\n",
    "plt.show()"
   ]
  }
 ],
 "metadata": {
  "colab": {
   "provenance": []
  },
  "kernelspec": {
   "display_name": "SSE",
   "language": "python",
   "name": "python3"
  },
  "language_info": {
   "codemirror_mode": {
    "name": "ipython",
    "version": 3
   },
   "file_extension": ".py",
   "mimetype": "text/x-python",
   "name": "python",
   "nbconvert_exporter": "python",
   "pygments_lexer": "ipython3",
   "version": "3.7.9 (default, Aug 31 2020, 17:10:11) [MSC v.1916 64 bit (AMD64)]"
  },
  "vscode": {
   "interpreter": {
    "hash": "285c8df598f39a2ee6340bc878be97700a73c0af618c943dcb0bf0896a4c257e"
   }
  }
 },
 "nbformat": 4,
 "nbformat_minor": 1
}
